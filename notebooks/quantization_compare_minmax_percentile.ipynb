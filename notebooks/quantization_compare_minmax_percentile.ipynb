{
  "nbformat": 4,
  "nbformat_minor": 0,
  "metadata": {
    "colab": {
      "provenance": [],
      "authorship_tag": "ABX9TyP2kWwYiOowJUb4LXbTN/9X",
      "include_colab_link": true
    },
    "kernelspec": {
      "name": "python3",
      "display_name": "Python 3"
    },
    "language_info": {
      "name": "python"
    }
  },
  "cells": [
    {
      "cell_type": "markdown",
      "metadata": {
        "id": "view-in-github",
        "colab_type": "text"
      },
      "source": [
        "<a href=\"https://colab.research.google.com/github/01PrathamS/Quantization/blob/main/notebooks/quantization_compare_minmax_percentile.ipynb\" target=\"_parent\"><img src=\"https://colab.research.google.com/assets/colab-badge.svg\" alt=\"Open In Colab\"/></a>"
      ]
    },
    {
      "cell_type": "code",
      "execution_count": 1,
      "metadata": {
        "colab": {
          "base_uri": "https://localhost:8080/"
        },
        "id": "A6HUUYIwzYdF",
        "outputId": "92f3c5b4-3749-4bc2-f7d9-f3a27da6aa2c"
      },
      "outputs": [
        {
          "output_type": "stream",
          "name": "stdout",
          "text": [
            "[ 147.9   118.53   69.92 ...   50.39   70.59 1000.  ]\n"
          ]
        }
      ],
      "source": [
        "import numpy as np\n",
        "\n",
        "# Suppress scientific notation\n",
        "np.set_printoptions(suppress=True)\n",
        "\n",
        "# Generate randomly distributed parameters\n",
        "params = np.random.uniform(low=50, high=150, size=10000)\n",
        "\n",
        "# Introduce an outlier\n",
        "params[-1] = 1000\n",
        "\n",
        "# Round each number to the second decimal place\n",
        "params = np.round(params, 2)\n",
        "\n",
        "# Print the parameters\n",
        "print(params)"
      ]
    },
    {
      "cell_type": "markdown",
      "source": [
        "# Define the Quantization methods and quantize\n",
        "## compare min-max and percentile range selection strategies"
      ],
      "metadata": {
        "id": "qG2qFE8v0B_0"
      }
    },
    {
      "cell_type": "code",
      "source": [
        "def clamp(params_q: np.array, lower_bound: int, upper_bound: int) -> np.array:\n",
        "  params_q[params_q < lower_bound] = lower_bound\n",
        "  params_q[params_q > upper_bound] = upper_bound\n",
        "  return params_q\n",
        "\n",
        "def asymmetric_quantization(params: np.array, bits: int) -> tuple[np.array, float, int]:\n",
        "  alpha = np.max(params)\n",
        "  beta = np.min(params)\n",
        "  scale = (alpha - beta) / (2**bits - 1)\n",
        "  zero = -1*np.round(beta / scale)\n",
        "  lower_bound, upper_bound = 0, 2**bits - 1\n",
        "  quantized = clamp(np.round(params/scale + zero), lower_bound, upper_bound).astype(np.int32)\n",
        "  return quantized, scale, zero\n",
        "\n",
        "def asymmetric_quantization_percentile(params: np.array, bits: int, percentile: float = 99.99) -> tuple[np.array, float, int]:\n",
        "  # find the percentile value\n",
        "  alpha = np.percentile(params, percentile)\n",
        "  beta = np.percentile(params, 100-percentile)\n",
        "  scale = (alpha - beta) / (2**bits-1)\n",
        "  zero = -1*np.round(beta / scale)\n",
        "  lower_bound, upper_bound = 0, 2**bits - 1\n",
        "  quantized = clamp(np.round(params / scale + zero), lower_bound, upper_bound).astype(np.int32)\n",
        "  return quantized, scale, zero\n",
        "\n",
        "def asymmetric_dequantized(params_q: np.array, scale: float, zero: int) -> np.array:\n",
        "  return (params_q - zero) * scale\n",
        "\n",
        "def quantization_error(params: np.array, params_q: np.array):\n",
        "  # calculate the MSE\n",
        "  return np.mean((params - params_q)**2)\n",
        "\n",
        "(asymmetric_q, asymmetric_scale, asymmetric_zero) = asymmetric_quantization(params, 8)\n",
        "(asymmetric_q_percentile, asymmetric_scale_percentile, asymmetric_zero_percentile) = asymmetric_quantization_percentile(params, 8)\n",
        "\n",
        "print(f\"Original: \")\n",
        "print(np.round(params, 2))\n",
        "print(\"\")\n",
        "print(f\"Asymmetric (min-max) scale: {asymmetric_scale}, zero: {asymmetric_zero}\")\n",
        "print(asymmetric_q)\n",
        "print(f\"\")\n",
        "print(f\"Asymmetric (percentile) scale: {asymmetric_scale_percentile}, zero: {asymmetric_zero_percentile}\")\n",
        "print(asymmetric_q_percentile)"
      ],
      "metadata": {
        "colab": {
          "base_uri": "https://localhost:8080/"
        },
        "id": "x6GcVnNV0BNB",
        "outputId": "774cdbeb-2943-48da-cf5f-ce7918cb74b2"
      },
      "execution_count": 9,
      "outputs": [
        {
          "output_type": "stream",
          "name": "stdout",
          "text": [
            "Original: \n",
            "[ 147.9   118.53   69.92 ...   50.39   70.59 1000.  ]\n",
            "\n",
            "Asymmetric (min-max) scale: 3.7254901960784315, zero: -13.0\n",
            "[ 27  19   6 ...   1   6 255]\n",
            "\n",
            "Asymmetric (percentile) scale: 0.3924509843113681, zero: -127.0\n",
            "[250 175  51 ...   1  53 255]\n"
          ]
        }
      ]
    },
    {
      "cell_type": "code",
      "source": [
        "# Dequantize the parameters back to 32 bits\n",
        "\n",
        "params_deq_asymmetric = asymmetric_dequantized(asymmetric_q, asymmetric_scale, asymmetric_zero)\n",
        "params_deq_asymmetric_percentile = asymmetric_dequantized(asymmetric_q_percentile, asymmetric_scale_percentile, asymmetric_zero_percentile)\n",
        "\n",
        "print(np.round(params, 2))\n",
        "print(\" \")\n",
        "print(f\"Dequantized (min-max): \")\n",
        "print(np.round(params_deq_asymmetric, 2))\n",
        "print(\" \")\n",
        "print(f\"Dequantized (percentile): \")\n",
        "print(np.round(params_deq_asymmetric_percentile, 2))"
      ],
      "metadata": {
        "colab": {
          "base_uri": "https://localhost:8080/"
        },
        "id": "oj5WmHB6z7KP",
        "outputId": "39f0c1eb-693a-41ff-9655-4588bbada4d1"
      },
      "execution_count": 7,
      "outputs": [
        {
          "output_type": "stream",
          "name": "stdout",
          "text": [
            "[ 147.9   118.53   69.92 ...   50.39   70.59 1000.  ]\n",
            " \n",
            "Dequantized (min-max): \n",
            "[149.02 119.22  70.78 ...  52.16  70.78 998.43]\n",
            " \n",
            "Dequantized (percentile): \n",
            "[147.95 118.52  69.86 ...  50.23  70.64 149.92]\n"
          ]
        }
      ]
    },
    {
      "cell_type": "code",
      "source": [
        "# Calculate the quantization error\n",
        "\n",
        "print(f'{\"Error (min-max) excluding outlier: \":>40}{np.round(quantization_error(params[:-1], params_deq_asymmetric[:-1]), 2)}')\n",
        "print(f'{\"Error (percentile) excluding outlier: \":>40}{np.round(quantization_error(params[:-1], params_deq_asymmetric_percentile[:-1]), 2)}')"
      ],
      "metadata": {
        "colab": {
          "base_uri": "https://localhost:8080/"
        },
        "id": "Se0-NqJZ7dRy",
        "outputId": "1e2c53f4-fdc1-4752-b510-64117f0b1f77"
      },
      "execution_count": 10,
      "outputs": [
        {
          "output_type": "stream",
          "name": "stdout",
          "text": [
            "     Error (min-max) excluding outlier: 1.15\n",
            "  Error (percentile) excluding outlier: 0.01\n"
          ]
        }
      ]
    },
    {
      "cell_type": "code",
      "source": [],
      "metadata": {
        "id": "uYQmLYPA74aG"
      },
      "execution_count": null,
      "outputs": []
    }
  ]
}