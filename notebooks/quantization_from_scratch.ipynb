{
  "nbformat": 4,
  "nbformat_minor": 0,
  "metadata": {
    "colab": {
      "provenance": [],
      "authorship_tag": "ABX9TyMYxVYn0XbKmehOr+ffRryt",
      "include_colab_link": true
    },
    "kernelspec": {
      "name": "python3",
      "display_name": "Python 3"
    },
    "language_info": {
      "name": "python"
    }
  },
  "cells": [
    {
      "cell_type": "markdown",
      "metadata": {
        "id": "view-in-github",
        "colab_type": "text"
      },
      "source": [
        "<a href=\"https://colab.research.google.com/github/01PrathamS/Quantization/blob/main/notebooks/quantization_from_scratch.ipynb\" target=\"_parent\"><img src=\"https://colab.research.google.com/assets/colab-badge.svg\" alt=\"Open In Colab\"/></a>"
      ]
    },
    {
      "cell_type": "markdown",
      "source": [
        "# create a simple tensor with random items"
      ],
      "metadata": {
        "id": "AqEPRhJRsG1r"
      }
    },
    {
      "cell_type": "code",
      "source": [
        "import numpy as np\n",
        "\n",
        "# Suppress scientific notation\n",
        "# np.set_printoptions(suppress=True)\n",
        "\n",
        "# Generate randomly distributed parameters\n",
        "params = np.random.uniform(low=-50, high=150, size=20)\n",
        "\n",
        "# Make sure important values are at the beginning for better debugging\n",
        "params[0] = params.max() + 1\n",
        "params[1] = params.min() - 1\n",
        "params[2] = 0\n",
        "\n",
        "# Round each number to the second decimal place\n",
        "params = np.round(params,2)\n",
        "\n",
        "# print the parameter\n",
        "print(params)"
      ],
      "metadata": {
        "colab": {
          "base_uri": "https://localhost:8080/"
        },
        "id": "kSG3ZMS-sGOt",
        "outputId": "b52b51ba-babd-4ec9-9455-aff42ace1dc3"
      },
      "execution_count": 4,
      "outputs": [
        {
          "output_type": "stream",
          "name": "stdout",
          "text": [
            "[145.52 -42.68   0.    83.22  14.48 116.39 140.99 -18.53  38.84 -41.68\n",
            "  69.48 105.9   34.99 127.08 144.52 -30.65  20.28  93.93 107.87 107.56]\n"
          ]
        }
      ]
    },
    {
      "cell_type": "markdown",
      "source": [
        "# Define the quantization methdos and quantize"
      ],
      "metadata": {
        "id": "lKYzUlC3s0NM"
      }
    },
    {
      "cell_type": "code",
      "source": [
        "def clamp(params_q: np.array, lower_bound: int, upper_bound: int) -> np.array:\n",
        "  params_q[params_q < lower_bound] = lower_bound\n",
        "  params_q[params_q > upper_bound] = upper_bound\n",
        "  return params_q\n",
        "\n",
        "def asymmetric_quantization(params: np.array, bits: int) -> tuple[np.array, float, int]:\n",
        "  # calculate the scale and zero point\n",
        "  alpha = np.max(params)\n",
        "  beta = np.min(params)\n",
        "  scale = (alpha - beta) / (2**bits-1)\n",
        "  zero = -1*np.round(beta / scale)\n",
        "  lower_bound, upper_bound = 0, 2**bits-1\n",
        "\n",
        "  # Quantize the parameters\n",
        "  quantized = clamp(np.round(params / scale + zero), lower_bound, upper_bound).astype(np.int32)\n",
        "  return quantized, scale, zero\n",
        "\n",
        "def asymmetric_dequantize(params_q: np.array, scale: float, zero: int) -> np.array:\n",
        "  return (params_q - zero) * scale\n",
        "\n",
        "def sysmetric_dequantize(params_q: np.array, scale: float) -> np.array:\n",
        "  return params_q * scale\n",
        "\n",
        "def symmetric_quantize(params_q: np.array, bits: float) -> np.array:\n",
        "  # Calculate the scale and zero point\n",
        "  alpha = np.max(params_q)\n",
        "  scale = alpha / (2**(bits-1)-1)\n",
        "  lower_bound = -2**(bits-1)\n",
        "  upper_bound = 2**(bits-1)-1\n",
        "  # Quantize the parameters\n",
        "  quantized = clamp(np.round(params/scale), lower_bound, upper_bound).astype(np.int32)\n",
        "  return quantized, scale\n",
        "\n",
        "def quantization_error(params: np.array, params_q: np.array):\n",
        "  # Calculate the MSE\n",
        "  return np.mean((params - params_q)**2)\n",
        "\n",
        "(asymmetric_q, asymmetric_scale, asymmetric_zero) = asymmetric_quantization(params, 8)\n",
        "(symmetric_q, symmetric_scale) = symmetric_quantize(params, 8)\n",
        "\n",
        "print(f\"Original:\")\n",
        "print(np.round(params, 2))\n",
        "print(\"\")\n",
        "print(f\"Asymmetric scale: {asymmetric_scale}, zero: {asymmetric_zero}\")\n",
        "print(asymmetric_q)\n",
        "print(\"\")\n",
        "print(f\"Symmetric Scale: {symmetric_scale}\")\n",
        "print(symmetric_q)\n"
      ],
      "metadata": {
        "colab": {
          "base_uri": "https://localhost:8080/"
        },
        "id": "KPdTkZk9szJt",
        "outputId": "50eeb3df-9ae2-482d-d88a-8fabfbcd48fb"
      },
      "execution_count": 9,
      "outputs": [
        {
          "output_type": "stream",
          "name": "stdout",
          "text": [
            "Original:\n",
            "[145.52 -42.68   0.    83.22  14.48 116.39 140.99 -18.53  38.84 -41.68\n",
            "  69.48 105.9   34.99 127.08 144.52 -30.65  20.28  93.93 107.87 107.56]\n",
            "\n",
            "Asymmetric scale: 0.7380392156862746, zero: 58.0\n",
            "[255   0  58 171  78 216 249  33 111   2 152 201 105 230 254  16  85 185\n",
            " 204 204]\n",
            "\n",
            "Symmetric Scale: 1.1458267716535433\n",
            "[127 -37   0  73  13 102 123 -16  34 -36  61  92  31 111 126 -27  18  82\n",
            "  94  94]\n"
          ]
        }
      ]
    },
    {
      "cell_type": "code",
      "execution_count": 11,
      "metadata": {
        "colab": {
          "base_uri": "https://localhost:8080/"
        },
        "id": "Dcyv-LU8r__a",
        "outputId": "21dc2803-e4e9-41f6-ccf1-7e3827c9d65b"
      },
      "outputs": [
        {
          "output_type": "stream",
          "name": "stdout",
          "text": [
            "Original:\n",
            "[145.52 -42.68   0.    83.22  14.48 116.39 140.99 -18.53  38.84 -41.68\n",
            "  69.48 105.9   34.99 127.08 144.52 -30.65  20.28  93.93 107.87 107.56]\n",
            " \n",
            "Dequantize Asymmetric:\n",
            "[145.39 -42.81   0.    83.4   14.76 116.61 140.97 -18.45  39.12 -41.33\n",
            "  69.38 105.54  34.69 126.94 144.66 -31.    19.93  93.73 107.75 107.75]\n",
            " \n",
            "Dequantize Symmetric:\n",
            "[145.52 -42.4    0.    83.65  14.9  116.87 140.94 -18.33  38.96 -41.25\n",
            "  69.9  105.42  35.52 127.19 144.37 -30.94  20.62  93.96 107.71 107.71]\n"
          ]
        }
      ],
      "source": [
        "# Dequantize the parameterse back to 32 bits\n",
        "params_deq_asymmetric = asymmetric_dequantize(asymmetric_q, asymmetric_scale, asymmetric_zero)\n",
        "params_deq_symmetric = sysmetric_dequantize(symmetric_q, symmetric_scale)\n",
        "\n",
        "print(f\"Original:\")\n",
        "print(np.round(params, 2))\n",
        "print(\" \")\n",
        "print(f\"Dequantize Asymmetric:\")\n",
        "print(np.round(params_deq_asymmetric, 2))\n",
        "print(\" \")\n",
        "print(f\"Dequantize Symmetric:\")\n",
        "print(np.round(params_deq_symmetric, 2))"
      ]
    },
    {
      "cell_type": "code",
      "source": [
        "# Calculate the quantization error\n",
        "print(f'{\"Asymmetric error: \":>20}{np.round(quantization_error(params, params_deq_asymmetric), 2)}')\n",
        "print(f'{\"Symmetric error: \":>20}{np.round(quantization_error(params, params_deq_symmetric), 2)}')"
      ],
      "metadata": {
        "colab": {
          "base_uri": "https://localhost:8080/"
        },
        "id": "hZJeIUyuvq90",
        "outputId": "316b6e32-66ac-4278-f842-2fa07493f428"
      },
      "execution_count": 14,
      "outputs": [
        {
          "output_type": "stream",
          "name": "stdout",
          "text": [
            "  Asymmetric error: 0.05\n",
            "   Symmetric error: 0.09\n"
          ]
        }
      ]
    },
    {
      "cell_type": "code",
      "source": [],
      "metadata": {
        "id": "ACvCSWRdwex0"
      },
      "execution_count": null,
      "outputs": []
    }
  ]
}